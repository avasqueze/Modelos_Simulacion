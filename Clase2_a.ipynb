{
 "cells": [
  {
   "cell_type": "markdown",
   "id": "affecting-malta",
   "metadata": {
    "id": "affecting-malta"
   },
   "source": [
    "# Introduccion a Python y Jupyter Notebooks mediante ejemplos simples de modelado"
   ]
  },
  {
   "cell_type": "markdown",
   "id": "confirmed-budapest",
   "metadata": {
    "id": "confirmed-budapest",
    "tags": []
   },
   "source": [
    "## Jupyter\n",
    "\n",
    "Este es un cuaderno Jupyter, un entorno donde puedes escribir y ejecutar código y texto. Cada celda contiene texto (como esta) o código de Python."
   ]
  },
  {
   "cell_type": "markdown",
   "id": "danish-scope",
   "metadata": {
    "id": "danish-scope",
    "tags": []
   },
   "source": [
    "Para ejecutar una celda, mantén presionada **SHIFT** y pulsa **ENTER**.\n",
    "\n",
    "* Si ejecutas una celda de texto, Jupyter formatea el texto y muestra el resultado.\n",
    "\n",
    "* Si ejecutas una celda de código, Jupyter ejecuta el código de Python de la celda y muestra el resultado, si lo hay.\n",
    "\n",
    "Para practicar:\n",
    "\n",
    "1. Haz clic en el botón **+** de la barra de herramientas para agregar una celda.\n",
    "2. En la nueva celda, escribe `1+1` y ejecútala.\n",
    "3. Añade otra celda; con esa celda seleccionada, cambia su tipo a **Markdown** para convertirla en celda de texto.\n",
    "4. Escribe algo de texto y ejecútala.\n",
    "5. Usa las flechas de la barra de herramientas para mover celdas arriba y abajo.\n",
    "6. Usa los botones de cortar, copiar y pegar para borrar, añadir y mover celdas.\n",
    "7. Jupyter guarda tu cuaderno automáticamente; para guardar manualmente usa el botón de guardar.\n",
    "8. Cuando termines con un cuaderno, elige **Close and Halt** en el menú **File**."
   ]
  },
  {
   "cell_type": "code",
   "execution_count": 2,
   "id": "passive-dayton",
   "metadata": {
    "id": "passive-dayton",
    "tags": []
   },
   "outputs": [],
   "source": [
    "# install Pint if necessary\n",
    "\n",
    "try:\n",
    "    from pint import UnitRegistry\n",
    "except ImportError:\n",
    "    !pip install pint"
   ]
  },
  {
   "cell_type": "markdown",
   "id": "chronic-moore",
   "metadata": {
    "id": "chronic-moore"
   },
   "source": [
    "Aqui introducimos el marco de modelado que usaremos este primer ejemplo, una moneda que cae. También muestra cómo hacer cómputo en Python con unidades como metros y segundos."
   ]
  },
  {
   "cell_type": "markdown",
   "id": "hourly-financing",
   "metadata": {
    "id": "hourly-financing"
   },
   "source": [
    "## El marco de modelado\n",
    "\n",
    "El siguiente diagrama muestra lo que quiero decir con *modelado*:\n",
    "\n",
    "![Diagrama del marco de modelado.](https://github.com/AllenDowney/ModSim/raw/main/figs/modeling_framework.png)"
   ]
  },
  {
   "cell_type": "markdown",
   "id": "structured-receiver",
   "metadata": {
    "id": "structured-receiver"
   },
   "source": [
    "Empezando abajo a la izquierda, el *sistema* es algo del mundo real que nos interesa. Para modelar el sistema, tenemos que decidir qué elementos del mundo real incluir y cuáles podemos dejar por fuera. A este proceso se le llama *abstracción*.\n",
    "\n",
    "El resultado de la abstracción es un *modelo*, que es una descripción de un sistema que incluye solo las características que consideramos esenciales. Un modelo puede representarse con diagramas y ecuaciones, que pueden usarse para el *análisis* matemático. También puede implementarse en forma de un programa de computador, que puede ejecutar *simulaciones*.\n",
    "\n",
    "El resultado del análisis y la simulación puede ser una *predicción* de lo que hará el sistema, una *explicación* de por qué se comporta como lo hace, o un *diseño* destinado a lograr un propósito.\n",
    "\n",
    "Podemos *validar* predicciones y probar diseños tomando *mediciones* del mundo real y comparando los *datos* con los resultados del análisis y la simulación."
   ]
  },
  {
   "cell_type": "markdown",
   "id": "center-accommodation",
   "metadata": {
    "id": "center-accommodation"
   },
   "source": [
    "Para cualquier sistema físico hay muchos modelos posibles, cada uno incluyendo y excluyendo diferentes características, o incluyendo distintos niveles de detalle. El objetivo del proceso de modelado es encontrar el modelo más adecuado para su propósito (predicción, explicación o diseño).\n",
    "\n",
    "A veces el mejor modelo es el más detallado: si incluimos más rasgos, el modelo es más realista y esperamos que sus predicciones sean más precisas.\n",
    "Pero a menudo un modelo más simple es mejor: si incluimos solo las características esenciales y dejamos fuera el resto, obtenemos modelos más fáciles de trabajar y las explicaciones que proporcionan pueden ser más claras y convincentes."
   ]
  },
  {
   "cell_type": "markdown",
   "id": "confirmed-highlight",
   "metadata": {
    "id": "confirmed-highlight"
   },
   "source": [
    "Como ejemplo, supón que alguien te pregunta por qué la órbita de la Tierra es elíptica. Si modelas la Tierra y el Sol como masas puntuales (ignorando su tamaño real), calculas la fuerza gravitacional entre ellos usando la ley de gravitación universal de Newton, y calculas la órbita resultante con las leyes de movimiento de Newton, puedes mostrar que el resultado es una elipse.\n",
    "Por supuesto, la órbita real de la Tierra no es una elipse perfecta, debido a las fuerzas gravitacionales de la Luna, Júpiter y otros objetos del sistema solar, y porque las leyes de Newton son solo aproximadamente verdaderas (no tienen en cuenta efectos relativistas).\n",
    "Pero añadir estas características al modelo no mejoraría la explicación; más detalle solo distraería de la causa fundamental. Sin embargo, si el objetivo es predecir la posición de la Tierra con gran precisión, incluir más detalles podría ser necesario."
   ]
  },
  {
   "cell_type": "markdown",
   "id": "stretch-geneva",
   "metadata": {
    "id": "stretch-geneva"
   },
   "source": [
    "Elegir el mejor modelo depende de para qué es el modelo. Suele ser buena idea comenzar con un modelo simple, incluso si probablemente sea demasiado simple, y comprobar si es suficiente para su propósito. Luego puedes añadir características gradualmente, empezando por las que esperas que sean más esenciales. Este proceso se llama *modelado iterativo*.\n",
    "\n",
    "Comparar los resultados de modelos sucesivos proporciona una forma de *validación interna*, de modo que puedas detectar errores conceptuales, matemáticos y de software. Y al añadir y quitar características, puedes ver cuáles tienen el mayor efecto en los resultados y cuáles se pueden ignorar.\n",
    "\n",
    "Comparar resultados con datos del mundo real proporciona *validación externa*, que generalmente es la prueba más sólida.\n",
    "\n",
    "El marco de modelado es bastante abstracto; el siguiente ejemplo puede aclararlo."
   ]
  },
  {
   "cell_type": "markdown",
   "id": "criminal-lunch",
   "metadata": {
    "id": "criminal-lunch"
   },
   "source": [
    "## El mito del centavo que cae\n",
    "\n",
    "Tal vez hayas oído que una moneda dejada caer desde la cima del Empire State Building iría tan rápido al golpear el pavimento que quedaría incrustada en el concreto; o que, si golpeara a una persona, le fracturaría el cráneo.\n",
    "\n",
    "Podemos poner a prueba este mito creando y analizando dos modelos. Para el primer modelo, supondremos que el efecto de la resistencia del aire es pequeño. En ese caso, la única fuerza que actúa sobre el centavo es la gravedad, que hace que el centavo acelere hacia abajo.\n",
    "\n",
    "Si la velocidad inicial es 0 y la aceleración $a$ es constante, la velocidad después de $t$ segundos es\n",
    "\n",
    "$$v = a t$$\n",
    "\n",
    "y la distancia que ha caído la moneda es\n",
    "\n",
    "$$x = a t^{2} / 2$$\n",
    "\n",
    "Para encontrar el tiempo hasta que la moneda alcance el suelo, podemos despejar $t$:\n",
    "\n",
    "$$t = \\sqrt{ 2 x / a}$$\n",
    "\n",
    "Usando la acelaración de la gravedad, $a = 9.8 m/s^2$, y la altura del edificio, $x = 381$ m, llegamos a $t = 8.8$ s.\n",
    "\n",
    "Calculamos  $v = a t$ para obtener una velocidad de impacto de $86$ m/s, La cual es aproximadame $310$ km/h."
   ]
  },
  {
   "cell_type": "markdown",
   "id": "documentary-diagnosis",
   "metadata": {
    "id": "documentary-diagnosis"
   },
   "source": [
    "Por supuesto, estos resultados no son exactos porque el modelo se basa en simplificaciones. Por ejemplo, suponemos que la gravedad es constante. En realidad, la fuerza de gravedad es diferente en distintas partes del globo y se debilita al alejarse de la superficie. Pero estas diferencias son pequeñas, así que ignorarlas probablemente sea una buena elección para este problema.\n",
    "\n",
    "Por otro lado, ignorar la resistencia del aire no es una buena elección, porque en este escenario su efecto es sustancial. Una vez la moneda alcanza aproximadamente 29 m/s, la fuerza hacia arriba debida al aire equilibra la fuerza hacia abajo de la gravedad, por lo que el centavo deja de acelerar. Esta es la *velocidad terminal* del centavo en el aire.\n",
    "\n",
    "Y eso sugiere un segundo modelo, en el que el centavo acelera hasta que alcanza su velocidad terminal; después de eso, la aceleración es 0 y la velocidad es constante. En este modelo, el centavo golpea la acera a unos 29 m/s. Eso es mucho menos que 86 m/s, que es lo que predice el primer modelo. Recibir un golpe de un centavo a esa velocidad podría doler, pero es poco probable que cause un daño real. Y no dañaría el concreto."
   ]
  },
  {
   "cell_type": "markdown",
   "id": "recent-appliance",
   "metadata": {
    "id": "recent-appliance"
   },
   "source": [
    "El estadístico George Box dijo célebremente: «Todos los modelos son incorrectos, pero algunos son útiles». Hablaba de modelos estadísticos, pero su argumento se aplica igual de bien a los modelos de simulación. Nuestro primer modelo de un centavo que cae es *incorrecto* porque ignora la resistencia del aire, pero es útil porque es fácil de analizar y te permite refutar el mito. El segundo modelo también es incorrecto, pero es mejor, y es suficiente para refutar el mito."
   ]
  },
  {
   "cell_type": "markdown",
   "id": "brief-zoning",
   "metadata": {
    "id": "brief-zoning"
   },
   "source": [
    "## Cómputo en Python\n",
    "\n",
    "Te mostraré cómo calculé los resultados de la sección anterior usando Python. Primero crearemos una variable para representar la aceleración debida a la gravedad en metros por segundo al cuadrado (m/s$^2$)."
   ]
  },
  {
   "cell_type": "code",
   "execution_count": 3,
   "id": "eleven-marine",
   "metadata": {
    "id": "eleven-marine"
   },
   "outputs": [],
   "source": [
    "a = 9.8"
   ]
  },
  {
   "cell_type": "markdown",
   "id": "upset-myanmar",
   "metadata": {
    "id": "upset-myanmar"
   },
   "source": [
    "Una *variable* es un nombre que corresponde a un valor. En este ejemplo, el nombre es `a` y el valor es el número `9.8`.\n",
    "\n",
    "Supongamos que dejamos caer el centavo durante $3.4$ segundos (s).  Crearé una variable para representar ese tiempo:"
   ]
  },
  {
   "cell_type": "code",
   "execution_count": 4,
   "id": "following-launch",
   "metadata": {
    "id": "following-launch"
   },
   "outputs": [],
   "source": [
    "t = 3.4"
   ]
  },
  {
   "cell_type": "markdown",
   "id": "greek-heritage",
   "metadata": {
    "id": "greek-heritage"
   },
   "source": [
    "Ahora podemos calcular la velocidad del centavo después de `t` segundos."
   ]
  },
  {
   "cell_type": "code",
   "execution_count": 5,
   "id": "mature-duration",
   "metadata": {
    "id": "mature-duration"
   },
   "outputs": [],
   "source": [
    "v = a * t"
   ]
  },
  {
   "cell_type": "markdown",
   "id": "serial-pilot",
   "metadata": {
    "id": "serial-pilot"
   },
   "source": [
    "Python usa el símbolo `*` para la multiplicación.  Los otros operadores aritméticos son `+` para suma, `-` para resta, `/` para división y `**` para exponenciación."
   ]
  },
  {
   "cell_type": "markdown",
   "id": "qualified-diabetes",
   "metadata": {
    "id": "qualified-diabetes"
   },
   "source": [
    "Después de asignar un valor a una variable, puedes mostrar el valor así:"
   ]
  },
  {
   "cell_type": "code",
   "execution_count": 6,
   "id": "considered-inclusion",
   "metadata": {
    "id": "considered-inclusion"
   },
   "outputs": [
    {
     "data": {
      "text/plain": [
       "33.32"
      ]
     },
     "execution_count": 6,
     "metadata": {},
     "output_type": "execute_result"
    }
   ],
   "source": [
    "v"
   ]
  },
  {
   "cell_type": "markdown",
   "id": "northern-saturday",
   "metadata": {
    "id": "northern-saturday"
   },
   "source": [
    "Después de $3.4$ s, la velocidad del centavo es de unos $33$ m/s (ignorando la resistencia del aire).  Ahora veamos qué tan lejos viajaría durante ese tiempo:"
   ]
  },
  {
   "cell_type": "code",
   "execution_count": 7,
   "id": "valued-electricity",
   "metadata": {
    "id": "valued-electricity"
   },
   "outputs": [
    {
     "data": {
      "text/plain": [
       "56.644"
      ]
     },
     "execution_count": 7,
     "metadata": {},
     "output_type": "execute_result"
    }
   ],
   "source": [
    "x = a * t**2 / 2\n",
    "x"
   ]
  },
  {
   "cell_type": "markdown",
   "id": "yellow-business",
   "metadata": {
    "id": "yellow-business"
   },
   "source": [
    "Recorrería unos $56$ m.  Ahora, yendo en la otra dirección, calculemos cuánto tarda en caer $381$ m, la altura del Empire State Building."
   ]
  },
  {
   "cell_type": "code",
   "execution_count": 8,
   "id": "closed-month",
   "metadata": {
    "id": "closed-month"
   },
   "outputs": [],
   "source": [
    "h = 381"
   ]
  },
  {
   "cell_type": "markdown",
   "id": "fuzzy-lease",
   "metadata": {
    "id": "fuzzy-lease"
   },
   "source": [
    "Para este cálculo, necesitamos la función de raíz cuadrada, `sqrt`, que es proporcionada por una biblioteca llamada NumPy. Antes de poder usarla, tenemos que importarla así:"
   ]
  },
  {
   "cell_type": "code",
   "execution_count": 9,
   "id": "nuclear-clone",
   "metadata": {
    "id": "nuclear-clone"
   },
   "outputs": [],
   "source": [
    "from numpy import sqrt"
   ]
  },
  {
   "cell_type": "markdown",
   "id": "unlimited-swiss",
   "metadata": {
    "id": "unlimited-swiss"
   },
   "source": [
    "Ahora podemos usarla así:"
   ]
  },
  {
   "cell_type": "code",
   "execution_count": 10,
   "id": "quarterly-nightmare",
   "metadata": {
    "id": "quarterly-nightmare"
   },
   "outputs": [
    {
     "data": {
      "text/plain": [
       "np.float64(8.817885349720552)"
      ]
     },
     "execution_count": 10,
     "metadata": {},
     "output_type": "execute_result"
    }
   ],
   "source": [
    "t = sqrt(2 * h / a)\n",
    "t"
   ]
  },
  {
   "cell_type": "markdown",
   "id": "velvet-oklahoma",
   "metadata": {
    "id": "velvet-oklahoma"
   },
   "source": [
    "Sin resistencia del aire, tardaría alrededor de $8.8$ s en que el centavo llegara a la acera."
   ]
  },
  {
   "cell_type": "code",
   "execution_count": 11,
   "id": "quality-external",
   "metadata": {
    "id": "quality-external"
   },
   "outputs": [
    {
     "data": {
      "text/plain": [
       "np.float64(86.41527642726142)"
      ]
     },
     "execution_count": 11,
     "metadata": {},
     "output_type": "execute_result"
    }
   ],
   "source": [
    "v = a * t\n",
    "v"
   ]
  },
  {
   "cell_type": "markdown",
   "id": "active-lobby",
   "metadata": {
    "id": "active-lobby"
   },
   "source": [
    "Y su velocidad al impactar sería de unos $86$ m/s."
   ]
  },
  {
   "cell_type": "code",
   "execution_count": 12,
   "id": "bf549c5e",
   "metadata": {},
   "outputs": [
    {
     "data": {
      "text/plain": [
       "float"
      ]
     },
     "execution_count": 12,
     "metadata": {},
     "output_type": "execute_result"
    }
   ],
   "source": [
    "type(a)"
   ]
  },
  {
   "cell_type": "markdown",
   "id": "human-phase",
   "metadata": {
    "id": "human-phase"
   },
   "source": [
    "### Precisión falsa\n",
    "\n",
    "Python muestra resultados con alrededor de 16 dígitos, lo que da la impresión de que son muy precisos, pero no te dejes engañar. Los números que obtenemos solo son tan buenos como los números que introducimos.\n",
    "\n",
    "Por ejemplo, la «altura del techo» del Empire State Building es $381$ m según una de las fuentes (Wikipedia: <https://en.wikipedia.org/wiki/Empire_State_Building>). Elegí $h=381$ m para este ejemplo asumiendo que el observatorio está en el techo y que sueltas el centavo desde una baranda de 1 metro. Pero probablemente eso no sea exacto, así que debemos tratar este valor como una aproximación en la que solo los dos primeros dígitos probablemente sean correctos.\n",
    "\n",
    "Si la precisión de las entradas es de dos dígitos, la precisión de las salidas es de dos dígitos, *como máximo*. Por eso, si la salida es `86.41527642726142`, yo la reporto como «unos 86»."
   ]
  },
  {
   "cell_type": "markdown",
   "id": "clinical-blackjack",
   "metadata": {
    "id": "clinical-blackjack"
   },
   "source": [
    "### Cálculo con unidades\n",
    "\n",
    "Los cálculos que acabamos de hacer usan números sin unidades. Cuando definimos `h=381`, omitimos los metros, y cuando definimos `a=9.8`, omitimos los metros por segundo al cuadrado. Y, cuando obtuvimos el resultado `v=86`, volvimos a añadir los metros por segundo.\n",
    "\n",
    "Omitir unidades en los cálculos es una práctica común, pero a veces conduce a errores catastróficos, como ocurrió con la sonda Mars Climate Orbiter en 1999 (ver <https://en.wikipedia.org/wiki/Mars_Climate_Orbiter>). Cuando sea posible, es mejor incluir unidades en el cálculo.\n",
    "\n",
    "Para representar unidades, usaremos una biblioteca llamada Pint (<https://pint.readthedocs.io/>). Para usarla, tenemos que importar una función llamada `UnitRegistry` y llamarla así:"
   ]
  },
  {
   "cell_type": "code",
   "execution_count": 14,
   "id": "lovely-declaration",
   "metadata": {
    "id": "lovely-declaration"
   },
   "outputs": [],
   "source": [
    "from pint import UnitRegistry\n",
    "\n",
    "units = UnitRegistry()"
   ]
  },
  {
   "cell_type": "markdown",
   "id": "consecutive-sleeve",
   "metadata": {
    "id": "consecutive-sleeve"
   },
   "source": [
    "El resultado es un objeto que contiene variables que representan prácticamente todas las unidades que has escuchado.\n",
    "Por ejemplo:"
   ]
  },
  {
   "cell_type": "code",
   "execution_count": 15,
   "id": "russian-popularity",
   "metadata": {
    "id": "russian-popularity"
   },
   "outputs": [
    {
     "data": {
      "text/html": [
       "meter"
      ],
      "text/latex": [
       "$\\mathrm{meter}$"
      ],
      "text/plain": [
       "<Unit('meter')>"
      ]
     },
     "execution_count": 15,
     "metadata": {},
     "output_type": "execute_result"
    }
   ],
   "source": [
    "meter = units.meter\n",
    "meter"
   ]
  },
  {
   "cell_type": "code",
   "execution_count": 16,
   "id": "endless-paint",
   "metadata": {
    "id": "endless-paint"
   },
   "outputs": [
    {
     "data": {
      "text/html": [
       "second"
      ],
      "text/latex": [
       "$\\mathrm{second}$"
      ],
      "text/plain": [
       "<Unit('second')>"
      ]
     },
     "execution_count": 16,
     "metadata": {},
     "output_type": "execute_result"
    }
   ],
   "source": [
    "second = units.second\n",
    "second"
   ]
  },
  {
   "cell_type": "markdown",
   "id": "everyday-location",
   "metadata": {
    "id": "everyday-location"
   },
   "source": [
    "Podemos usar `meter` y `second` para crear una variable llamada `a` y darle el valor de la aceleración debida a la gravedad."
   ]
  },
  {
   "cell_type": "code",
   "execution_count": 17,
   "id": "earlier-bandwidth",
   "metadata": {
    "id": "earlier-bandwidth"
   },
   "outputs": [
    {
     "data": {
      "text/html": [
       "9.8 meter/second<sup>2</sup>"
      ],
      "text/latex": [
       "$9.8\\ \\frac{\\mathrm{meter}}{\\mathrm{second}^{2}}$"
      ],
      "text/plain": [
       "<Quantity(9.8, 'meter / second ** 2')>"
      ]
     },
     "execution_count": 17,
     "metadata": {},
     "output_type": "execute_result"
    }
   ],
   "source": [
    "a = 9.8 * meter / second**2\n",
    "a"
   ]
  },
  {
   "cell_type": "markdown",
   "id": "generic-bowling",
   "metadata": {
    "id": "generic-bowling"
   },
   "source": [
    "El resultado es una *cantidad* con dos partes, llamadas `magnitude` y `units`, a las que podemos acceder así:"
   ]
  },
  {
   "cell_type": "code",
   "execution_count": 18,
   "id": "missing-privilege",
   "metadata": {
    "id": "missing-privilege"
   },
   "outputs": [
    {
     "data": {
      "text/plain": [
       "9.8"
      ]
     },
     "execution_count": 18,
     "metadata": {},
     "output_type": "execute_result"
    }
   ],
   "source": [
    "a.magnitude"
   ]
  },
  {
   "cell_type": "code",
   "execution_count": null,
   "id": "fourth-swedish",
   "metadata": {
    "id": "fourth-swedish"
   },
   "outputs": [
    {
     "data": {
      "text/html": [
       "meter/second<sup>2</sup>"
      ],
      "text/latex": [
       "$\\frac{\\mathrm{meter}}{\\mathrm{second}^{2}}$"
      ],
      "text/plain": [
       "<Unit('meter / second ** 2')>"
      ]
     },
     "execution_count": 19,
     "metadata": {},
     "output_type": "execute_result"
    }
   ],
   "source": [
    "a.units\n"
   ]
  },
  {
   "cell_type": "markdown",
   "id": "realistic-techno",
   "metadata": {
    "id": "realistic-techno"
   },
   "source": [
    "También podemos crear una cantidad que represente $3.4$ s."
   ]
  },
  {
   "cell_type": "code",
   "execution_count": 20,
   "id": "apart-france",
   "metadata": {
    "id": "apart-france"
   },
   "outputs": [
    {
     "data": {
      "text/html": [
       "3.4 second"
      ],
      "text/latex": [
       "$3.4\\ \\mathrm{second}$"
      ],
      "text/plain": [
       "<Quantity(3.4, 'second')>"
      ]
     },
     "execution_count": 20,
     "metadata": {},
     "output_type": "execute_result"
    }
   ],
   "source": [
    "t = 3.4 * second\n",
    "t"
   ]
  },
  {
   "cell_type": "markdown",
   "id": "severe-share",
   "metadata": {
    "id": "severe-share"
   },
   "source": [
    "Y usarla para calcular la distancia que caería un centavo después de `t` segundos con aceleración constante `a`.  "
   ]
  },
  {
   "cell_type": "code",
   "execution_count": 21,
   "id": "alien-scout",
   "metadata": {
    "id": "alien-scout"
   },
   "outputs": [
    {
     "data": {
      "text/html": [
       "56.644 meter"
      ],
      "text/latex": [
       "$56.644\\ \\mathrm{meter}$"
      ],
      "text/plain": [
       "<Quantity(56.644, 'meter')>"
      ]
     },
     "execution_count": 21,
     "metadata": {},
     "output_type": "execute_result"
    }
   ],
   "source": [
    "a * t**2 / 2"
   ]
  },
  {
   "cell_type": "markdown",
   "id": "wicked-indianapolis",
   "metadata": {
    "id": "wicked-indianapolis"
   },
   "source": [
    "Observa que las unidades del resultado son correctas.\n",
    "Si creamos una cantidad para representar la altura del Empire State Building:"
   ]
  },
  {
   "cell_type": "code",
   "execution_count": 22,
   "id": "confidential-costs",
   "metadata": {
    "id": "confidential-costs"
   },
   "outputs": [],
   "source": [
    "h = 381 * meter"
   ]
  },
  {
   "cell_type": "markdown",
   "id": "hollow-programmer",
   "metadata": {
    "id": "hollow-programmer"
   },
   "source": [
    "Podemos usarla para calcular el tiempo que el centavo tardaría en llegar a la acera."
   ]
  },
  {
   "cell_type": "code",
   "execution_count": 23,
   "id": "studied-opera",
   "metadata": {
    "id": "studied-opera"
   },
   "outputs": [
    {
     "data": {
      "text/html": [
       "8.817885349720552 second"
      ],
      "text/latex": [
       "$8.817885349720552\\ \\mathrm{second}$"
      ],
      "text/plain": [
       "<Quantity(8.81788535, 'second')>"
      ]
     },
     "execution_count": 23,
     "metadata": {},
     "output_type": "execute_result"
    }
   ],
   "source": [
    "t = sqrt(2 * h / a)\n",
    "t"
   ]
  },
  {
   "cell_type": "markdown",
   "id": "seasonal-laser",
   "metadata": {
    "id": "seasonal-laser"
   },
   "source": [
    "Y la velocidad del centavo al impactar:"
   ]
  },
  {
   "cell_type": "code",
   "execution_count": 24,
   "id": "exterior-greek",
   "metadata": {
    "id": "exterior-greek"
   },
   "outputs": [
    {
     "data": {
      "text/html": [
       "86.41527642726142 meter/second"
      ],
      "text/latex": [
       "$86.41527642726142\\ \\frac{\\mathrm{meter}}{\\mathrm{second}}$"
      ],
      "text/plain": [
       "<Quantity(86.4152764, 'meter / second')>"
      ]
     },
     "execution_count": 24,
     "metadata": {},
     "output_type": "execute_result"
    }
   ],
   "source": [
    "v = a * t\n",
    "v"
   ]
  },
  {
   "cell_type": "code",
   "execution_count": 27,
   "id": "impaired-puzzle",
   "metadata": {
    "id": "impaired-puzzle",
    "tags": []
   },
   "outputs": [],
   "source": [
    "assert abs(v.magnitude - 86.41527642726142) < 1e-7"
   ]
  },
  {
   "cell_type": "markdown",
   "id": "superior-biography",
   "metadata": {
    "id": "superior-biography"
   },
   "source": [
    "Como en la sección anterior, el resultado es aproximadamente $86$, pero ahora tiene las unidades correctas, m/s.\n",
    "\n",
    "Con cantidades de Pint, podemos convertir de un conjunto de unidades a otro así:"
   ]
  },
  {
   "cell_type": "code",
   "execution_count": 38,
   "id": "antique-landing",
   "metadata": {
    "id": "antique-landing"
   },
   "outputs": [],
   "source": [
    "km = units.kilometer\n",
    "hour = units.hour"
   ]
  },
  {
   "cell_type": "code",
   "execution_count": 34,
   "id": "included-failure",
   "metadata": {
    "id": "included-failure"
   },
   "outputs": [
    {
     "data": {
      "text/html": [
       "311.0949951381411 kilometer/hour"
      ],
      "text/latex": [
       "$311.0949951381411\\ \\frac{\\mathrm{kilometer}}{\\mathrm{hour}}$"
      ],
      "text/plain": [
       "<Quantity(311.094995, 'kilometer / hour')>"
      ]
     },
     "execution_count": 34,
     "metadata": {},
     "output_type": "execute_result"
    }
   ],
   "source": [
    "v.to(km/hour)"
   ]
  },
  {
   "cell_type": "code",
   "execution_count": null,
   "id": "ffc0df52",
   "metadata": {},
   "outputs": [],
   "source": [
    "v2 = 29 * meter/second"
   ]
  },
  {
   "cell_type": "code",
   "execution_count": 39,
   "id": "893a1bb3",
   "metadata": {},
   "outputs": [
    {
     "data": {
      "text/html": [
       "104.39999999999999 kilometer/hour"
      ],
      "text/latex": [
       "$104.39999999999999\\ \\frac{\\mathrm{kilometer}}{\\mathrm{hour}}$"
      ],
      "text/plain": [
       "<Quantity(104.4, 'kilometer / hour')>"
      ]
     },
     "execution_count": 39,
     "metadata": {},
     "output_type": "execute_result"
    }
   ],
   "source": [
    "v2.to(km/hour)"
   ]
  },
  {
   "cell_type": "markdown",
   "id": "progressive-charleston",
   "metadata": {
    "id": "progressive-charleston"
   },
   "source": [
    "Si estás más familiarizado con los kilometros por hora, este resultado podría ser más fácil de interpretar. Y podría darte la impresión de que este modelo no es realista."
   ]
  },
  {
   "cell_type": "markdown",
   "id": "continuing-democrat",
   "metadata": {
    "id": "continuing-democrat"
   },
   "source": [
    "## Resumen\n",
    "\n",
    "Este capítulo introduce un marco de modelado que consta de tres pasos:\n",
    "\n",
    "* La *abstracción* es el proceso de definir un modelo decidiendo qué elementos del mundo real incluir y cuáles se pueden dejar por fuera.\n",
    "\n",
    "* El *análisis* y la *simulación* son formas de usar un modelo para generar predicciones, explicar por qué las cosas se comportan como lo hacen, y diseñar cosas que se comporten como queremos.\n",
    "\n",
    "* La *validación* es cómo probamos si el modelo es correcto, a menudo comparando predicciones con mediciones del mundo real.\n",
    "\n",
    "Como primer ejemplo, modelamos un centavo que cae desde el Empire State Building, incluyendo la gravedad pero ignorando la resistencia del aire.\n",
    "\n",
    "Este notebook presenta Pint, una biblioteca para realizar cálculos con unidades en Python; es útil para convertir entre diferentes unidades y para evitar errores catastróficos."
   ]
  },
  {
   "cell_type": "markdown",
   "id": "thousand-equation",
   "metadata": {
    "id": "thousand-equation"
   },
   "source": [
    "## Ejercicios\n",
    "\n",
    "Los siguientes ejercicios permiten familiarizarce con lo visto previamente"
   ]
  },
  {
   "cell_type": "markdown",
   "id": "periodic-objective",
   "metadata": {
    "id": "periodic-objective"
   },
   "source": [
    "### Ejercicio 1\n",
    "\n",
    "En notación matemática, podemos escribir una ecuación como $v = a t$ y se entiende que estamos multiplicando $a$ y $t$. Pero eso no funciona en Python.  Si pones dos variables una al lado de la otra, así:\n",
    "\n",
    "```\n",
    "v = a t\n",
    "```\n",
    "\n",
    "obtendrás un *error de sintaxis*, lo que significa que hay algo mal en tu programa. Pruébalo para ver cómo se ve el mensaje de error."
   ]
  },
  {
   "cell_type": "code",
   "execution_count": null,
   "id": "exempt-delight",
   "metadata": {
    "id": "exempt-delight",
    "tags": []
   },
   "outputs": [],
   "source": [
    "a = 9.8 * meter / second**2\n",
    "t = 3.4 * second\n",
    "\n",
    "v = a * t\n",
    "v"
   ]
  },
  {
   "cell_type": "markdown",
   "id": "pressing-sugar",
   "metadata": {
    "id": "pressing-sugar"
   },
   "source": [
    "### Ejercicio 2\n",
    "\n",
    "En este capítulo usamos la función `sqrt` de la biblioteca NumPy.  NumPy también proporciona una variable llamada `pi` que contiene una aproximación de la constante matemática $\\pi$.\n",
    "Podemos importarla así:"
   ]
  },
  {
   "cell_type": "code",
   "execution_count": null,
   "id": "legal-observer",
   "metadata": {
    "id": "legal-observer"
   },
   "outputs": [],
   "source": [
    "from numpy import pi\n",
    "pi"
   ]
  },
  {
   "cell_type": "markdown",
   "id": "aggregate-mambo",
   "metadata": {
    "id": "aggregate-mambo"
   },
   "source": [
    "NumPy proporciona otras funciones que usaremos, incluidas `log`, `exp`, `sin` y `cos`.\n",
    "Importa `sin` y `cos` de NumPy y calcula\n",
    "\n",
    "$$sin^2 (\\pi/4) + cos^2 (\\pi/4)$$\n",
    "\n",
    "Nota: Una identidad matemática nos dice que la respuesta debe ser $1$."
   ]
  },
  {
   "cell_type": "code",
   "execution_count": null,
   "id": "pressing-belgium",
   "metadata": {
    "id": "pressing-belgium"
   },
   "outputs": [],
   "source": [
    "# La solución va aquí"
   ]
  },
  {
   "cell_type": "markdown",
   "id": "unlimited-delivery",
   "metadata": {
    "id": "unlimited-delivery"
   },
   "source": [
    "### Ejercicio 3\n",
    "\n",
    "Supón que llevas un poste de 10 pies a la cima del Empire State Building y lo usas para soltar el centavo desde una altura 10 pies menor. ¿Cuánto más rápido llegaría al suelo? ¿Y cuál sería su velocidad de impacto?\n",
    "\n",
    "1. Agrega una celda nueva y escribe `1+1`. Ejecútala.\n",
    "\n",
    "2. En la nueva celda, añade una instrucción `print('Hello')` y ejecútala.\n",
    "\n",
    "3. Agrega otra celda, selecciónala y cámbiala a **Markdown** para que sea una celda de texto.\n",
    "\n",
    "4. En la nueva celda, escribe algo de texto y ejecútala.\n",
    "\n",
    "5. Usa las flechas de la barra de herramientas para mover celdas arriba y abajo.\n",
    "\n",
    "6. Usa los botones de cortar, copiar y pegar para borrar, añadir y mover celdas.\n",
    "\n",
    "7. A medida que haces cambios, Jupyter guarda tu cuaderno automáticamente; para guardar manualmente usa el botón de guardar.\n",
    "\n",
    "8. Finalmente, cuando termines con un cuaderno, selecciona **Close and Halt** en el menú **File**."
   ]
  },
  {
   "cell_type": "code",
   "execution_count": null,
   "id": "inner-equivalent",
   "metadata": {
    "id": "inner-equivalent"
   },
   "outputs": [],
   "source": [
    "h = 381 * meter"
   ]
  },
  {
   "cell_type": "code",
   "execution_count": null,
   "id": "nuclear-thirty",
   "metadata": {
    "id": "nuclear-thirty"
   },
   "outputs": [],
   "source": [
    "# La solución va aquí"
   ]
  },
  {
   "cell_type": "markdown",
   "id": "aggressive-climate",
   "metadata": {
    "id": "aggressive-climate"
   },
   "source": [
    "### Ejercicio 4\n",
    "\n",
    "¿Por qué no tendría sentido sumar `a` y `t`? ¿Qué ocurre si lo intentas?"
   ]
  },
  {
   "cell_type": "code",
   "execution_count": null,
   "id": "documentary-doctrine",
   "metadata": {
    "id": "documentary-doctrine"
   },
   "outputs": [],
   "source": [
    "a = 9.8 * meter / second**2\n",
    "t = 3.4 * second"
   ]
  },
  {
   "cell_type": "code",
   "execution_count": null,
   "id": "primary-partner",
   "metadata": {
    "id": "primary-partner"
   },
   "outputs": [],
   "source": [
    "# La solución va aquí"
   ]
  },
  {
   "cell_type": "markdown",
   "id": "legal-audio",
   "metadata": {
    "id": "legal-audio"
   },
   "source": [
    "En este ejemplo, deberías obtener un `DimensionalityError`, que indica que has violado una regla del análisis dimensional: no puedes sumar cantidades con diferentes dimensiones.\n",
    "\n",
    "Los mensajes de error que obtienes de Python son grandes y asustan, pero si los lees con cuidado contienen mucha información útil.\n",
    "\n",
    "La última línea normalmente te dice qué tipo de error sucedió y cuál es el mensaje asociado. Esa línea suele ser la más útil, así que quizá quieras empezar por el final y leer hacia arriba.\n",
    "\n",
    "Las líneas anteriores son un *traceback* de lo que estaba ocurriendo cuando el error se produjo. El último bloque suele corresponder al código que escribiste.  Las secciones anteriores a menudo provienen de bibliotecas de Python."
   ]
  },
  {
   "cell_type": "markdown",
   "id": "steady-chancellor",
   "metadata": {
    "id": "steady-chancellor",
    "tags": []
   },
   "source": [
    "Antes de continuar, quizá quieras eliminar el código erróneo para que el cuaderno pueda ejecutarse sin errores."
   ]
  },
  {
   "cell_type": "markdown",
   "id": "valid-empire",
   "metadata": {
    "id": "valid-empire"
   },
   "source": [
    "### Ejercicio 5\n",
    "\n",
    "Supón que, en lugar de soltar el centavo, lo lanzas hacia abajo a su velocidad terminal, $29$ m/s.  ¿Cuánto tardaría en caer $381$ m?"
   ]
  },
  {
   "cell_type": "code",
   "execution_count": null,
   "id": "greenhouse-reason",
   "metadata": {
    "id": "greenhouse-reason"
   },
   "outputs": [],
   "source": [
    "# La solución va aquí"
   ]
  },
  {
   "cell_type": "markdown",
   "id": "asian-murray",
   "metadata": {
    "id": "asian-murray"
   },
   "source": [
    "### Ejercicio 6:\n",
    "\n",
    "Hasta ahora hemos considerado dos modelos de un centavo que cae:\n",
    "\n",
    "* Si ignoramos la resistencia del aire, el centavo cae con aceleración constante `a` hasta que alcanza la acera.\n",
    "\n",
    "* Si tenemos en cuenta la resistencia del aire y soltamos el centavo a su velocidad terminal, cae con velocidad constante.\n",
    "\n",
    "Ahora consideremos un tercer modelo que incluye elementos de los dos anteriores: el centavo cae con aceleración constante inicialmente y luego, al alcanzar la velocidad terminal, continúa con velocidad constante.  ¿Cuánto tarda en caer $381$ m?  ¿Cuál es la velocidad del centavo cuando llega?  ¿Cuánto tarda en alcanzar la velocidad terminal?  ¿Y cuánto tarda en recorrer el resto de la distancia después?  ¿Cuál es el tiempo total para que el centavo caiga $381$ m?"
   ]
  },
  {
   "cell_type": "markdown",
   "id": "detailed-minnesota",
   "metadata": {
    "id": "detailed-minnesota"
   },
   "source": [
    "Puedes dividir esta pregunta en tres partes:\n",
    "\n",
    "1. ¿Cuánto tardaría el centavo en alcanzar $29$ m/s con aceleración constante `a`?\n",
    "2. ¿Qué distancia caería durante ese tiempo?\n",
    "3. ¿Cuánto tardaría en caer la distancia restante con velocidad constante $29$ m/s?\n",
    "\n",
    "Sugerencia: asigna cada resultado intermedio a una variable con un nombre significativo.  ¡Y asigna unidades a todas las cantidades!"
   ]
  },
  {
   "cell_type": "code",
   "execution_count": null,
   "id": "secure-crowd",
   "metadata": {
    "id": "secure-crowd"
   },
   "outputs": [],
   "source": [
    "a = 9.8 * meter / second**2\n",
    "h = 381 * meter"
   ]
  },
  {
   "cell_type": "code",
   "execution_count": null,
   "id": "thirty-minneapolis",
   "metadata": {
    "id": "thirty-minneapolis"
   },
   "outputs": [],
   "source": [
    "# La solución va aqui"
   ]
  },
  {
   "cell_type": "markdown",
   "id": "jewish-secret",
   "metadata": {
    "id": "jewish-secret"
   },
   "source": [
    "### Ejercicio 7\n",
    "\n",
    "Supón que corro una carrera de 10K en 44:52 (44 minutos y 52 segundos).  ¿Cuál es mi ritmo promedio en minutos por milla?"
   ]
  },
  {
   "cell_type": "code",
   "execution_count": null,
   "id": "virgin-cambodia",
   "metadata": {
    "id": "virgin-cambodia"
   },
   "outputs": [],
   "source": [
    "mile = units.mile\n",
    "kilometer = units.kilometer\n",
    "minute = units.minute"
   ]
  },
  {
   "cell_type": "code",
   "execution_count": null,
   "id": "right-intention",
   "metadata": {
    "id": "right-intention"
   },
   "outputs": [],
   "source": [
    "# La solución va aquí"
   ]
  },
  {
   "cell_type": "markdown",
   "id": "environmental-wallet",
   "metadata": {
    "id": "environmental-wallet",
    "tags": []
   },
   "source": [
    "## Más sobre Jupyter\n",
    "\n",
    "Puedes añadir y eliminar celdas de un cuaderno usando los botones de la barra de herramientas y los elementos del menú.\n",
    "\n",
    "1. Haz clic en el botón **+** de la barra de herramientas para agregar una celda.\n",
    "2. En la nueva celda, escribe `1+1` y ejecútala.\n",
    "3. Agrega otra celda, selecciónala y cámbiala a **Markdown** para que sea una celda de texto.\n",
    "4. En la nueva celda, escribe algo de texto y ejecútala.\n",
    "5. Usa las flechas de la barra de herramientas para mover celdas arriba y abajo.\n",
    "6. Usa los botones de cortar, copiar y pegar para borrar, añadir y mover celdas.\n",
    "7. A medida que haces cambios, Jupyter guarda tu cuaderno automáticamente; para guardar manualmente usa el botón de guardar (parece un disquete de los 90).\n",
    "8. Finalmente, cuando termines con un cuaderno, selecciona **Close and Halt** en el menú **File**."
   ]
  },
  {
   "cell_type": "markdown",
   "id": "successful-kentucky",
   "metadata": {
    "id": "successful-kentucky",
    "tags": []
   },
   "source": [
    "Cuando cambias el contenido de una celda, tienes que ejecutarla de nuevo para que esos cambios tengan efecto. Si olvidas hacerlo y ejecutas celdas más abajo, puedes obtener resultados extraños, porque el código que estás mirando no es el código que se ejecutó.\n",
    "\n",
    "Si alguna vez pierdes la pista de qué celdas se han ejecutado, y en qué orden, puedes seleccionar **Kernel → Restart & Run All** en el menú. Reiniciar el kernel limpia todas las variables; **Run All** significa que todo tu código se ejecutará de nuevo, en el orden correcto.\n",
    "\n",
    "Selecciona ahora **Restart & Run All** y confirma que ejecuta todas las celdas."
   ]
  },
  {
   "cell_type": "code",
   "execution_count": null,
   "id": "weighted-quebec",
   "metadata": {
    "id": "weighted-quebec"
   },
   "outputs": [],
   "source": [
    "# La solución va aqu"
   ]
  }
 ],
 "metadata": {
  "celltoolbar": "Tags",
  "colab": {
   "provenance": []
  },
  "kernelspec": {
   "display_name": "base",
   "language": "python",
   "name": "python3"
  },
  "language_info": {
   "codemirror_mode": {
    "name": "ipython",
    "version": 3
   },
   "file_extension": ".py",
   "mimetype": "text/x-python",
   "name": "python",
   "nbconvert_exporter": "python",
   "pygments_lexer": "ipython3",
   "version": "3.10.18"
  }
 },
 "nbformat": 4,
 "nbformat_minor": 5
}
