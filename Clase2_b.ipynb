{
 "cells": [
  {
   "cell_type": "markdown",
   "id": "victorian-latitude",
   "metadata": {
    "id": "victorian-latitude"
   },
   "source": [
    "# Sistema de bicicletas compartidas"
   ]
  },
  {
   "cell_type": "code",
   "execution_count": 41,
   "id": "78a69006",
   "metadata": {},
   "outputs": [],
   "source": [
    "# Imports\n",
    "import pandas as pd\n",
    "import numpy as np"
   ]
  },
  {
   "cell_type": "code",
   "execution_count": 3,
   "id": "electoral-turkey",
   "metadata": {
    "id": "electoral-turkey",
    "tags": []
   },
   "outputs": [],
   "source": [
    "# install Pint if necessary\n",
    "\n",
    "try:\n",
    "    import pint\n",
    "except ImportError:\n",
    "    !pip install pint"
   ]
  },
  {
   "cell_type": "code",
   "execution_count": null,
   "id": "formal-context",
   "metadata": {
    "id": "formal-context",
    "tags": []
   },
   "outputs": [],
   "source": [
    "# download modsim.py if necessary\n",
    "\n",
    "from os.path import basename, exists\n",
    "\n",
    "def download(url):\n",
    "    filename = basename(url)\n",
    "    if not exists(filename):\n",
    "        from urllib.request import urlretrieve\n",
    "        local, _ = urlretrieve(url, filename)\n",
    "        print('Downloaded ' + local)\n",
    "\n",
    "download('https://raw.githubusercontent.com/AllenDowney/' +\n",
    "         'ModSimPy/master/modsim.py')"
   ]
  },
  {
   "cell_type": "code",
   "execution_count": null,
   "id": "progressive-typing",
   "metadata": {
    "id": "progressive-typing",
    "tags": []
   },
   "outputs": [],
   "source": [
    "# import functions from modsim\n",
    "\n",
    "from modsim import *"
   ]
  },
  {
   "cell_type": "markdown",
   "id": "unlimited-antenna",
   "metadata": {
    "id": "unlimited-antenna"
   },
   "source": [
    "Vamos a ver un modelo sencillo de un sistema de bicicletas compartidas y muestrar las características de Python que usaremos para desarrollar simulaciones de sistemas del mundo real.\n",
    "\n",
    "A lo largo del camino tomaremos decisiones que nos permitan mejorar gradualmente el modelo."
   ]
  },
  {
   "cell_type": "markdown",
   "id": "above-denial",
   "metadata": {
    "id": "above-denial"
   },
   "source": [
    "## Modelado de un sistema de bicicletas compartidas\n",
    "\n",
    "Empezaremos con dos estaciones, `Robledo` y `c4ta`, y un número inicial de bicicletas en cada una. Usaremos diferentes librerias para representar el *estado* del sistema y actualizaremos ese estado a medida que las bicicletas se mueven."
   ]
  },
  {
   "cell_type": "code",
   "execution_count": 10,
   "id": "incorrect-comparison",
   "metadata": {
    "id": "incorrect-comparison"
   },
   "outputs": [],
   "source": [
    "state = dict(robledo=10, c4ta=2)\n",
    "bikeshare_state = pd.Series(state, name=\"state\")"
   ]
  },
  {
   "cell_type": "markdown",
   "id": "living-wayne",
   "metadata": {
    "id": "living-wayne"
   },
   "source": [
    "Las asignaciones entre paréntesis crean dos variables, `Robledo` y `c4ta`, y les dan valores iniciales. Podemos mostrar estas variables individualmente, o inspeccionar el objeto completo para ver todas las variables de estado."
   ]
  },
  {
   "cell_type": "code",
   "execution_count": 11,
   "id": "brief-diversity",
   "metadata": {
    "id": "brief-diversity"
   },
   "outputs": [
    {
     "data": {
      "text/plain": [
       "np.int64(10)"
      ]
     },
     "execution_count": 11,
     "metadata": {},
     "output_type": "execute_result"
    }
   ],
   "source": [
    "bikeshare_state.robledo"
   ]
  },
  {
   "cell_type": "markdown",
   "id": "intermediate-midwest",
   "metadata": {
    "id": "intermediate-midwest"
   },
   "source": [
    "Y esto:"
   ]
  },
  {
   "cell_type": "code",
   "execution_count": 12,
   "id": "designed-brazilian",
   "metadata": {
    "id": "designed-brazilian"
   },
   "outputs": [
    {
     "data": {
      "text/plain": [
       "np.int64(2)"
      ]
     },
     "execution_count": 12,
     "metadata": {},
     "output_type": "execute_result"
    }
   ],
   "source": [
    "bikeshare_state.c4ta"
   ]
  },
  {
   "cell_type": "code",
   "execution_count": 13,
   "id": "9b56ff79",
   "metadata": {},
   "outputs": [
    {
     "name": "stdout",
     "output_type": "stream",
     "text": [
      "el número de bicicletas en C4ta es: 2\n"
     ]
    }
   ],
   "source": [
    "print(\"el número de bicicletas en C4ta es:\", bikeshare_state.c4ta)"
   ]
  },
  {
   "cell_type": "markdown",
   "id": "phantom-oklahoma",
   "metadata": {
    "id": "phantom-oklahoma"
   },
   "source": [
    "O, para mostrar todas las variables de estado y sus valores, puedes escribir solo el nombre del objeto `State`."
   ]
  },
  {
   "cell_type": "code",
   "execution_count": 14,
   "id": "impaired-potter",
   "metadata": {
    "id": "impaired-potter"
   },
   "outputs": [
    {
     "data": {
      "application/vnd.microsoft.datawrangler.viewer.v0+json": {
       "columns": [
        {
         "name": "index",
         "rawType": "object",
         "type": "string"
        },
        {
         "name": "state",
         "rawType": "int64",
         "type": "integer"
        }
       ],
       "ref": "42d58cad-531e-4b28-8048-051e4d54bc89",
       "rows": [
        [
         "robledo",
         "10"
        ],
        [
         "c4ta",
         "2"
        ]
       ],
       "shape": {
        "columns": 1,
        "rows": 2
       }
      },
      "text/plain": [
       "robledo    10\n",
       "c4ta        2\n",
       "Name: state, dtype: int64"
      ]
     },
     "execution_count": 14,
     "metadata": {},
     "output_type": "execute_result"
    }
   ],
   "source": [
    "bikeshare_state"
   ]
  },
  {
   "cell_type": "markdown",
   "id": "vital-journal",
   "metadata": {
    "id": "vital-journal"
   },
   "source": [
    "Estos valores conforman el *estado* del sistema."
   ]
  },
  {
   "cell_type": "markdown",
   "id": "fleet-beijing",
   "metadata": {
    "id": "fleet-beijing",
    "tags": []
   },
   "source": [
    "Podemos definir una función `mostrar` que muestra el estado del sistema de bicicletas compartidas como una tabla."
   ]
  },
  {
   "cell_type": "code",
   "execution_count": 17,
   "id": "91921a50",
   "metadata": {},
   "outputs": [],
   "source": [
    "def mostrar(obj):\n",
    "    \"\"\"Display a Series or Namespace as a DataFrame.\n",
    "\n",
    "    Args:\n",
    "        obj (object): Series or Namespace to display.\n",
    "\n",
    "    Returns:\n",
    "        pd.DataFrame: DataFrame representation of the object.\n",
    "    \"\"\"\n",
    "    if isinstance(obj, pd.Series):\n",
    "        df = pd.DataFrame(obj)\n",
    "        return df\n",
    "    elif hasattr(obj, \"__dict__\"):\n",
    "        return pd.DataFrame(pd.Series(obj.__dict__), columns=[\"value\"])\n",
    "    else:\n",
    "        return obj"
   ]
  },
  {
   "cell_type": "code",
   "execution_count": 18,
   "id": "basic-fabric",
   "metadata": {
    "id": "basic-fabric",
    "tags": []
   },
   "outputs": [
    {
     "data": {
      "application/vnd.microsoft.datawrangler.viewer.v0+json": {
       "columns": [
        {
         "name": "index",
         "rawType": "object",
         "type": "string"
        },
        {
         "name": "state",
         "rawType": "int64",
         "type": "integer"
        }
       ],
       "ref": "1b5f90e3-18fa-46e6-ac12-6be875a3caa5",
       "rows": [
        [
         "robledo",
         "10"
        ],
        [
         "c4ta",
         "2"
        ]
       ],
       "shape": {
        "columns": 1,
        "rows": 2
       }
      },
      "text/html": [
       "<div>\n",
       "<style scoped>\n",
       "    .dataframe tbody tr th:only-of-type {\n",
       "        vertical-align: middle;\n",
       "    }\n",
       "\n",
       "    .dataframe tbody tr th {\n",
       "        vertical-align: top;\n",
       "    }\n",
       "\n",
       "    .dataframe thead th {\n",
       "        text-align: right;\n",
       "    }\n",
       "</style>\n",
       "<table border=\"1\" class=\"dataframe\">\n",
       "  <thead>\n",
       "    <tr style=\"text-align: right;\">\n",
       "      <th></th>\n",
       "      <th>state</th>\n",
       "    </tr>\n",
       "  </thead>\n",
       "  <tbody>\n",
       "    <tr>\n",
       "      <th>robledo</th>\n",
       "      <td>10</td>\n",
       "    </tr>\n",
       "    <tr>\n",
       "      <th>c4ta</th>\n",
       "      <td>2</td>\n",
       "    </tr>\n",
       "  </tbody>\n",
       "</table>\n",
       "</div>"
      ],
      "text/plain": [
       "         state\n",
       "robledo     10\n",
       "c4ta         2"
      ]
     },
     "execution_count": 18,
     "metadata": {},
     "output_type": "execute_result"
    }
   ],
   "source": [
    "mostrar(bikeshare_state)"
   ]
  },
  {
   "cell_type": "markdown",
   "id": "specified-definition",
   "metadata": {
    "id": "specified-definition",
    "tags": []
   },
   "source": [
    "No necesario usar 'mostrar', pero en algunos entormos suele verse mejor."
   ]
  },
  {
   "cell_type": "markdown",
   "id": "delayed-ocean",
   "metadata": {
    "id": "delayed-ocean"
   },
   "source": [
    "Podemos actualizar el estado asignando nuevos valores a las variables."
   ]
  },
  {
   "cell_type": "code",
   "execution_count": 19,
   "id": "floppy-trainer",
   "metadata": {
    "id": "floppy-trainer"
   },
   "outputs": [],
   "source": [
    "bikeshare_state.robledo = 9\n",
    "bikeshare_state.c4ta = 3"
   ]
  },
  {
   "cell_type": "markdown",
   "id": "natural-gossip",
   "metadata": {
    "id": "natural-gossip"
   },
   "source": [
    "O podemos usar *operadores de actualización*, `-=` y `+=`, para restar 1 de una estación y sumar 1 a la otra."
   ]
  },
  {
   "cell_type": "code",
   "execution_count": 23,
   "id": "hungarian-bride",
   "metadata": {
    "id": "hungarian-bride"
   },
   "outputs": [],
   "source": [
    "bikeshare_state.robledo -= 1\n",
    "bikeshare_state.c4ta += 1"
   ]
  },
  {
   "cell_type": "markdown",
   "id": "radical-mills",
   "metadata": {
    "id": "radical-mills"
   },
   "source": [
    "El resultado es el mismo de cualquier manera."
   ]
  },
  {
   "cell_type": "markdown",
   "id": "controversial-opportunity",
   "metadata": {
    "id": "controversial-opportunity"
   },
   "source": [
    "## Definición de funciones\n",
    "\n",
    "Hasta ahora hemos utilizado funciones definidas en NumPy y en Pandas. Ahora vamos a definir nuestras propias funciones.\n",
    "\n",
    "Cuando desarrollas código en Jupyter, a menudo es eficiente escribir unas pocas líneas, probarlas para confirmar que hacen lo que pretendes y luego usarlas para definir una nueva función.\n",
    "Por ejemplo, estas líneas mueven una bicicleta de Robledo a C4ta:"
   ]
  },
  {
   "cell_type": "code",
   "execution_count": 24,
   "id": "vertical-drawing",
   "metadata": {
    "id": "vertical-drawing"
   },
   "outputs": [],
   "source": [
    "bikeshare_state.robledo -= 1\n",
    "bikeshare_state.c4ta += 1"
   ]
  },
  {
   "cell_type": "markdown",
   "id": "approximate-rolling",
   "metadata": {
    "id": "approximate-rolling"
   },
   "source": [
    "En lugar de repetir estas líneas cada vez que se mueve una bicicleta, podemos definir una nueva función:"
   ]
  },
  {
   "cell_type": "code",
   "execution_count": null,
   "id": "significant-nutrition",
   "metadata": {
    "id": "significant-nutrition"
   },
   "outputs": [],
   "source": [
    "def bicicleta_a_c4ta():\n",
    "    bikeshare_state.robledo -= 1\n",
    "    bikeshare_state.c4ta += 1"
   ]
  },
  {
   "cell_type": "markdown",
   "id": "generous-tracker",
   "metadata": {
    "id": "generous-tracker"
   },
   "source": [
    "`def` es una palabra especial en Python que indica que estamos definiendo una nueva función. El nombre de la función es `bicicleta_a_c4ta`. Los paréntesis vacíos indican que esta función no necesita argumentos. Los dos puntos marcan el inicio de un *bloque de código* con sangría.\n",
    "\n",
    "Las siguientes líneas son el *cuerpo* de la función; actualizan las variables `robledo` y `c4ta`."
   ]
  },
  {
   "cell_type": "code",
   "execution_count": 29,
   "id": "moving-jurisdiction",
   "metadata": {
    "id": "moving-jurisdiction"
   },
   "outputs": [],
   "source": [
    "bicicleta_a_c4ta()"
   ]
  },
  {
   "cell_type": "markdown",
   "id": "meaningful-christmas",
   "metadata": {
    "id": "meaningful-christmas"
   },
   "source": [
    "Para *llamar* una función, escribe su nombre seguido de paréntesis. cuando no usas los parentesis pasa esto"
   ]
  },
  {
   "cell_type": "code",
   "execution_count": 33,
   "id": "proper-symposium",
   "metadata": {
    "id": "proper-symposium"
   },
   "outputs": [
    {
     "data": {
      "text/plain": [
       "<function __main__.bicicleta_a_c4ta()>"
      ]
     },
     "execution_count": 33,
     "metadata": {},
     "output_type": "execute_result"
    }
   ],
   "source": [
    "bicicleta_a_c4ta\n"
   ]
  },
  {
   "cell_type": "markdown",
   "id": "brazilian-medicare",
   "metadata": {
    "id": "brazilian-medicare"
   },
   "source": [
    "## Print()\n",
    "\n",
    "A medida que escribes programas más complejos, es fácil perder el hilo de lo que está ocurriendo.\n",
    "Una de las herramientas más útiles para depurar es la instrucción print, que muestra texto en el cuaderno Jupyter.\n",
    "\n",
    "Normalmente, cuando Jupyter ejecuta el código en una celda, muestra el valor de la última línea de código. Por ejemplo, si ejecutas:"
   ]
  },
  {
   "cell_type": "code",
   "execution_count": 35,
   "id": "heavy-patrol",
   "metadata": {
    "id": "heavy-patrol"
   },
   "outputs": [
    {
     "data": {
      "text/plain": [
       "np.int64(7)"
      ]
     },
     "execution_count": 35,
     "metadata": {},
     "output_type": "execute_result"
    }
   ],
   "source": [
    "bikeshare_state.robledo\n",
    "bikeshare_state.c4ta"
   ]
  },
  {
   "cell_type": "markdown",
   "id": "ancient-projection",
   "metadata": {
    "id": "ancient-projection"
   },
   "source": [
    "Jupyter ejecuta ambas líneas, pero solo muestra el valor de la segunda. Si quieres mostrar más de un valor, puedes usar instrucciones `print()`:"
   ]
  },
  {
   "cell_type": "code",
   "execution_count": 36,
   "id": "french-preference",
   "metadata": {
    "id": "french-preference"
   },
   "outputs": [
    {
     "name": "stdout",
     "output_type": "stream",
     "text": [
      "5\n",
      "7\n"
     ]
    }
   ],
   "source": [
    "print(bikeshare_state.robledo)\n",
    "print(bikeshare_state.c4ta)"
   ]
  },
  {
   "cell_type": "markdown",
   "id": "original-hollywood",
   "metadata": {
    "id": "original-hollywood"
   },
   "source": [
    "Cuando llamas a `print`, puedes poner una variable entre paréntesis o proporcionar una secuencia de variables separadas por comas. Python busca los valores y los muestra en la misma línea, separados por un espacio."
   ]
  },
  {
   "cell_type": "code",
   "execution_count": 37,
   "id": "alternative-keyboard",
   "metadata": {
    "id": "alternative-keyboard"
   },
   "outputs": [
    {
     "name": "stdout",
     "output_type": "stream",
     "text": [
      "5 7\n"
     ]
    }
   ],
   "source": [
    "print(bikeshare_state.robledo, bikeshare_state.c4ta)"
   ]
  },
  {
   "cell_type": "markdown",
   "id": "described-produce",
   "metadata": {
    "id": "described-produce"
   },
   "source": [
    "Las sentencias `print` son útiles para depurar funciones. Por ejemplo, podemos añadir un `print` a `bicicleta_a_c4ta` para ver qué ocurre en cada llamada."
   ]
  },
  {
   "cell_type": "code",
   "execution_count": null,
   "id": "robust-holly",
   "metadata": {
    "id": "robust-holly"
   },
   "outputs": [],
   "source": [
    "def bicicleta_a_c4ta():\n",
    "    print('Moviendo una bicicleta a C4TA')\n",
    "    bikeshare_state.robledo -= 1\n",
    "    bikeshare_state.c4ta += 1"
   ]
  },
  {
   "cell_type": "markdown",
   "id": "e067e2d9",
   "metadata": {},
   "source": [
    "Cada vez que llamamos a esta versión de la función, muestra un mensaje, lo que puede ayudarnos a seguir el rastro de lo que está haciendo el programa.\n",
    "El mensaje en este ejemplo es una cadena (string), que es una secuencia de letras y otros símbolos entre comillas.\n",
    "\n",
    "Al igual que \"Bicicleta_a_robledo, podemos definir una función que mueva una bicicleta de C4ta a Robledo:"
   ]
  },
  {
   "cell_type": "code",
   "execution_count": null,
   "id": "a1da4352",
   "metadata": {},
   "outputs": [],
   "source": [
    "def bicicleta_a_robledo():\n",
    "    print('Moviendo una bicicleta a Robledo')\n",
    "    bikeshare_state.robledo += 1\n",
    "    bikeshare_state.c4ta -= 1"
   ]
  },
  {
   "cell_type": "markdown",
   "id": "enhanced-maintenance",
   "metadata": {
    "id": "enhanced-maintenance"
   },
   "source": [
    "## If()\n",
    "\n",
    "At this point we have functions that simulate moving bikes; now let's think about simulating customers. As a simple model of customer behavior, I will use a random number generator to determine when customers arrive at each station.\n",
    "\n",
    "The ModSim library provides a function called `flip` that generates random \"coin tosses\".\n",
    "When you call it, you provide a probability between 0 and 1, like this:\n",
    "\n",
    "En este punto ya tenemos funciones que simulan el movimiento de bicicletas; ahora pensemos en simular a los clientes. Un modelo simple del comportamiento de los clientes puede ser un generador de números aleatorios para determinar cuándo llegan clientes a cada estación.\n",
    "\n",
    "Creemos una función lanzamiento que genera “lanzamientos de moneda” aleatorios. Cuando la llamas, le proporcionas una probabilidad entre 0 y 1, así:"
   ]
  },
  {
   "cell_type": "code",
   "execution_count": 42,
   "id": "29c1f41a",
   "metadata": {
    "id": "29c1f41a",
    "tags": []
   },
   "outputs": [],
   "source": [
    "# this line sets the random number generator so the results in\n",
    "# np.random.seed(17)\n",
    "\n",
    "def lanzamiento(p=0.5):\n",
    "    \"\"\"Lanza una moneda con la probabilidad dada.\n",
    "\n",
    "    Args:\n",
    "        p (float): Probabilidad entre 0 y 1.\n",
    "\n",
    "    Returns:\n",
    "        bool: True or False.\n",
    "    \"\"\"\n",
    "    return np.random.random() < p"
   ]
  },
  {
   "cell_type": "code",
   "execution_count": 43,
   "id": "illegal-metropolitan",
   "metadata": {
    "id": "illegal-metropolitan"
   },
   "outputs": [
    {
     "data": {
      "text/plain": [
       "False"
      ]
     },
     "execution_count": 43,
     "metadata": {},
     "output_type": "execute_result"
    }
   ],
   "source": [
    "lanzamiento(0.7)"
   ]
  },
  {
   "cell_type": "markdown",
   "id": "907efab6",
   "metadata": {},
   "source": [
    "El resultado es uno de dos valores: True con probabilidad 0.7 (en este ejemplo) o False con probabilidad 0.3. Si ejecutas flip de esta manera 100 veces, deberías obtener True unas 70 veces y False unas 30 veces. Pero los resultados son aleatorios, así que pueden diferir de estas expectativas.\n",
    "\n",
    "True y False son valores especiales definidos por Python. Se llaman valores booleanos porque están relacionados con el álgebra booleana.\n",
    "\n",
    "Ten en cuenta que no son cadenas de texto (strings). Hay una diferencia entre True, que es un valor booleano, y 'True', que es una cadena.\n",
    "\n",
    "Podemos usar valores booleanos para controlar el comportamiento del programa, mediante una instrucción if:\n",
    "\n",
    "Podemos entregar el resultado como cara o sello"
   ]
  },
  {
   "cell_type": "code",
   "execution_count": null,
   "id": "fundamental-nursing",
   "metadata": {
    "id": "fundamental-nursing"
   },
   "outputs": [],
   "source": [
    "if lanzamiento(0.5):\n",
    "    print('cara')\n",
    "else:\n",
    "    print('sello')"
   ]
  },
  {
   "cell_type": "markdown",
   "id": "351803b3",
   "metadata": {},
   "source": [
    "Esta funcion la podemos usar para mover bicicletas de una estación a otra, dependiendo del resultado del lanzamiento de la moneda. Por ejemplo, si el resultado es cara, movemos una bicicleta a C4TA; si es sello, movemos una bicicleta a Robledo."
   ]
  },
  {
   "cell_type": "code",
   "execution_count": null,
   "id": "twenty-health",
   "metadata": {
    "id": "twenty-health"
   },
   "outputs": [],
   "source": [
    "if lanzamiento(0.5):\n",
    "    bicicleta_a_c4ta()"
   ]
  },
  {
   "cell_type": "markdown",
   "id": "a046d10e",
   "metadata": {},
   "source": [
    "La proxima clase usaremos esto para realizar una simulación."
   ]
  }
 ],
 "metadata": {
  "celltoolbar": "Tags",
  "colab": {
   "provenance": []
  },
  "kernelspec": {
   "display_name": "base",
   "language": "python",
   "name": "python3"
  },
  "language_info": {
   "codemirror_mode": {
    "name": "ipython",
    "version": 3
   },
   "file_extension": ".py",
   "mimetype": "text/x-python",
   "name": "python",
   "nbconvert_exporter": "python",
   "pygments_lexer": "ipython3",
   "version": "3.10.18"
  }
 },
 "nbformat": 4,
 "nbformat_minor": 5
}
