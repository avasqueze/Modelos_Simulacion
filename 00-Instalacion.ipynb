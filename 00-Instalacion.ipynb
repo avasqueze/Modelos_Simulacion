{
 "cells": [
  {
   "cell_type": "markdown",
   "metadata": {},
   "source": [
    "# Instalación de Python"
   ]
  },
  {
   "cell_type": "markdown",
   "metadata": {},
   "source": [
    "Python es un software libre. Si deseas ejecutarlo en tu propia máquina, es posible que ya tengas muchos de los componentes clave instalados. Sin embargo, te recomiendo encarecidamente que instales la [distribución de Python de Anaconda](https://www.anaconda.com/download) o miniconda, ya que facilita mantener todo de manera coherente y actualizado."
   ]
  },
  {
   "cell_type": "markdown",
   "metadata": {},
   "source": [
    "## Anaconda"
   ]
  },
  {
   "cell_type": "markdown",
   "metadata": {},
   "source": [
    "Si tienes suficiente ancho de banda y tiempo (estarás descargando alrededor de 1 GB de software), entonces puedes usar el [instalador gráfico de Anaconda](https://www.anaconda.com/download). Existen dos versiones de Python: Python `2.X` y Python `3.X`. Hay pequeñas diferencias entre ambas. Nosotros utilizaremos la versión `3.X`.\n",
    "\n",
    "El paquete de Anaconda instala tanto el paquete esencial de Python como una gran cantidad de software útil de Python. Colocará un ícono de lanzador en tu escritorio. Al hacer clic en el lanzador, aparecerá una ventana que muestra varias aplicaciones: utilizaremos `Jupyter Notebooks`."
   ]
  },
  {
   "cell_type": "markdown",
   "metadata": {},
   "source": [
    "## miniconda"
   ]
  },
  {
   "cell_type": "markdown",
   "metadata": {},
   "source": [
    "Si no deseas descargar todos los paquetes de Python, sino solo los esenciales, existe una versión más pequeña de Anaconda llamada miniconda. Primero, [descarga el paquete de miniconda](http://conda.pydata.org/miniconda.html) para tu computadora. Nuevamente, utilizaremos la versión `3.X`.\n",
    "\n",
    "El paquete de miniconda instala lo básico de Python y poco más. Hay varios paquetes útiles que usaremos. Puedes instalarlos usando la aplicación `conda` (ya sea a través del lanzador o de la línea de comandos). Pero antes de hacer eso, es mejor crear un entorno donde puedas instalarlos, el cual podrás modificar sin causar problemas."
   ]
  },
  {
   "cell_type": "markdown",
   "metadata": {},
   "source": [
    "## Entorno de Python"
   ]
  },
  {
   "cell_type": "markdown",
   "metadata": {},
   "source": [
    "En Python los paquetes pueden depender de otros paquetes, e incluso pueden depender de *versiones específicas* de otros paquetes para funcionar. Esto puede llevar al \"infierno de dependencias\", cuando necesitas (por diferentes propósitos) el paquete `A` y el paquete `B`, que dependen de versiones conflictivas del paquete `C`.\n",
    "\n",
    "La solución a esto son los *entornos*, que te permiten organizar tus diferentes paquetes para minimizar los conflictos. Los entornos son como carpetas, y tienes uno para cada proyecto en el que estás trabajando. De esa manera, te aseguras de que actualizar o instalar paquetes para un proyecto no cause problemas en otro proyecto diferente.\n",
    "\n",
    "Para crear y usar entornos, podemos utilizar el Anaconda Navigator (si se ha usado el instalador gráfico) o la línea de comandos a través de un terminal (lo cual funciona en todos los casos, pero probablemente sea necesario si se ha utilizado miniconda)."
   ]
  },
  {
   "cell_type": "markdown",
   "metadata": {},
   "source": [
    "### Entornos a través de Navigator\n",
    "\n",
    "Anaconda Navigator proporciona una interfaz gráfica para gestionar entornos sin necesidad de usar la línea de comandos. Aquí te explico cómo hacerlo:\n",
    "\n",
    "1. **Abrir Anaconda Navigator**: Si has instalado Anaconda, puedes abrir Navigator desde el ícono en tu escritorio o buscándolo en el menú de aplicaciones.\n",
    "\n",
    "2. **Crear un nuevo entorno**:\n",
    "   - Una vez que el Navigator esté abierto, verás una lista de aplicaciones y herramientas. En la barra lateral izquierda, selecciona la pestaña de **Entornos** (Environments).\n",
    "   - Haz clic en el botón **Crear** (Create) en la parte inferior de la pantalla.\n",
    "   - Asigna un nombre a tu nuevo entorno y selecciona la versión de Python que deseas usar (normalmente `3.X`).\n",
    "   - Haz clic en **Crear** para generar el entorno. Esto puede tardar unos minutos.\n",
    "\n",
    "3. **Instalar paquetes en el entorno**:\n",
    "   - Una vez que el entorno esté creado, selecciónalo en la lista de entornos.\n",
    "   - En la parte derecha, verás una lista de paquetes disponibles. Puedes buscar los paquetes que necesitas e instalarlos seleccionando el paquete y luego haciendo clic en **Aplicar** (Apply).\n",
    "   - Alternativamente, puedes hacer clic en el botón **Canales** (Channels) para agregar repositorios adicionales si no encuentras algún paquete.\n",
    "\n",
    "4. **Activar un entorno**:\n",
    "   - Si quieres usar este entorno en una aplicación como `spyder` o `jupyter`, primero debes asegurarte de que el entorno esté activo.\n",
    "   - Al seleccionar un entorno en Navigator, se activará para las aplicaciones que ejecutes desde allí.\n",
    "\n",
    "De esta manera, puedes gestionar fácilmente los entornos y evitar conflictos entre paquetes en diferentes proyectos usando la interfaz gráfica de Navigator."
   ]
  },
  {
   "cell_type": "markdown",
   "metadata": {},
   "source": [
    "### Entornos a través de Terminales\n",
    "\n",
    "Si prefieres trabajar desde la terminal, o si has instalado **miniconda**, puedes gestionar tus entornos de Python utilizando la línea de comandos. Aquí te explico cómo hacerlo:\n",
    "\n",
    "1. **Abrir la terminal**:\n",
    "   - En Windows, puedes abrir el **Anaconda Prompt** o **cmd** si miniconda está instalada. En macOS o Linux, puedes usar el terminal nativo.\n",
    "\n",
    "2. **Crear un nuevo entorno**:\n",
    "   - Para crear un nuevo entorno, usa el siguiente comando:\n",
    "\n",
    "     ```bash\n",
    "     conda create --name nombre_entorno python=3.X\n",
    "     ```\n",
    "\n",
    "     Reemplaza `nombre_entorno` con el nombre que quieras para tu entorno y `3.X` con la versión específica de Python que deseas utilizar (por ejemplo, `3.9`).\n",
    "\n",
    "   - Conda instalará Python y cualquier dependencia necesaria. Puedes incluir paquetes adicionales desde el principio especificando los nombres de los paquetes después de `python=3.X`. Por ejemplo:\n",
    "\n",
    "     ```bash\n",
    "     conda create --name nombre_entorno python=3.9 numpy pandas\n",
    "     ```\n",
    "\n",
    "3. **Activar el entorno**:\n",
    "   - Para empezar a usar tu entorno, primero debes activarlo. Usa este comando:\n",
    "\n",
    "     ```bash\n",
    "     conda activate nombre_entorno\n",
    "     ```\n",
    "\n",
    "   - Esto cambiará tu entorno actual al que acabas de crear.\n",
    "\n",
    "4. **Instalar paquetes en el entorno**:\n",
    "   - Una vez que el entorno esté activado, puedes instalar paquetes adicionales usando `conda install`. Por ejemplo:\n",
    "\n",
    "     ```bash\n",
    "     conda install matplotlib scikit-learn\n",
    "     ```\n",
    "\n",
    "   - Conda resolverá las dependencias e instalará los paquetes que especifiques.\n",
    "\n",
    "5. **Desactivar el entorno**:\n",
    "   - Para desactivar el entorno y volver al entorno base o al sistema global de Python, usa:\n",
    "\n",
    "     ```bash\n",
    "     conda deactivate\n",
    "     ```\n",
    "\n",
    "6. **Listar y eliminar entornos**:\n",
    "   - Para ver todos los entornos que has creado, usa el siguiente comando:\n",
    "\n",
    "     ```bash\n",
    "     conda env list\n",
    "     ```\n",
    "\n",
    "   - Si quieres eliminar un entorno que ya no necesitas, puedes usar:\n",
    "\n",
    "     ```bash\n",
    "     conda remove --name nombre_entorno --all\n",
    "     ```\n",
    "\n",
    "     Esto eliminará el entorno completo y todos los paquetes instalados en él.\n",
    "\n",
    "Trabajar con la terminal te da más control y flexibilidad sobre la gestión de tus entornos, especialmente cuando usas miniconda o prefieres un enfoque más manual."
   ]
  },
  {
   "cell_type": "markdown",
   "metadata": {},
   "source": [
    "## Guía de instalación de Visual Studio Code\n",
    "\n",
    "Visual Studio Code (VSCode) es un editor de código fuente ligero y potente, desarrollado por Microsoft, que soporta una amplia gama de lenguajes de programación. Sigue estos pasos para instalarlo en tu sistema operativo.\n",
    "\n",
    "### 1. Descargar VSCode\n",
    "\n",
    "1. Abre tu navegador web y visita la página oficial de descarga de Visual Studio Code:\n",
    "\n",
    "   [https://code.visualstudio.com/Download](https://code.visualstudio.com/Download)\n",
    "\n",
    "2. Selecciona el instalador adecuado para tu sistema operativo:\n",
    "   - **Windows**: Selecciona la versión de 64 bits o 32 bits según corresponda.\n",
    "   - **macOS**: Selecciona la versión para macOS.\n",
    "   - **Linux**: Selecciona el paquete `.deb` (Ubuntu/Debian) o `.rpm` (Fedora/RedHat).\n",
    "\n",
    "### 2. Instalar VSCode en Windows\n",
    "\n",
    "1. Una vez que la descarga esté completa, abre el archivo `.exe`.\n",
    "2. Sigue las instrucciones del asistente de instalación:\n",
    "   - Acepta los términos de la licencia.\n",
    "   - Selecciona la ubicación donde quieres instalar el programa.\n",
    "   - Marca la opción **Add to PATH** (añadir al PATH) para que VSCode se pueda ejecutar desde la terminal.\n",
    "   - (Opcional) Habilita la opción para agregar accesos directos al menú de inicio o al escritorio.\n",
    "3. Haz clic en **Install** y espera a que el proceso finalice.\n",
    "\n",
    "### 3. Instalar VSCode en macOS\n",
    "\n",
    "1. Abre el archivo `.dmg` que descargaste.\n",
    "2. Arrastra el icono de Visual Studio Code a la carpeta **Applications**.\n",
    "3. Abre **Visual Studio Code** desde la carpeta **Applications**.\n",
    "\n",
    "### 4. Instalar VSCode en Linux (Ubuntu/Debian)\n",
    "\n",
    "1. Abre una terminal y navega hasta el directorio donde descargaste el archivo `.deb`.\n",
    "2. Ejecuta el siguiente comando para instalar el paquete:\n",
    "\n",
    "   ```bash\n",
    "   sudo dpkg -i nombre_del_archivo.deb\n",
    "   ```\n",
    "\n",
    "   Si hay problemas de dependencias, ejecuta:\n",
    "\n",
    "   ```bash\n",
    "   sudo apt-get install -f\n",
    "   ```\n",
    "\n",
    "3. Para Fedora/RedHat, usa el archivo `.rpm` y ejecuta:\n",
    "\n",
    "   ```bash\n",
    "   sudo rpm -i nombre_del_archivo.rpm\n",
    "   ```\n",
    "\n",
    "### 5. Configuración inicial\n",
    "\n",
    "Una vez que hayas instalado VSCode:\n",
    "\n",
    "1. Abre Visual Studio Code.\n",
    "2. Ve a la pestaña de **Extensiones** en el lado izquierdo (ícono de cuadritos).\n",
    "3. Busca extensiones útiles como:\n",
    "   - **Python**: para soporte de Python.\n",
    "   - **C/C++**: para desarrollo en C y C++.\n",
    "   - **Live Server**: para desarrollo web en tiempo real.\n",
    "4. Instala las extensiones necesarias según el lenguaje que vayas a utilizar.\n",
    "\n",
    "### 6. Uso básico\n",
    "\n",
    "- Abre una carpeta o archivo para comenzar a trabajar.\n",
    "- Usa la paleta de comandos con `Ctrl+Shift+P` o `Cmd+Shift+P` en macOS para acceder a todas las funciones disponibles.\n",
    "\n",
    "Con estos pasos, Visual Studio Code estará listo para que comiences a escribir y depurar código."
   ]
  }
 ],
 "metadata": {
  "anaconda-cloud": {},
  "kernelspec": {
   "display_name": "base",
   "language": "python",
   "name": "python3"
  },
  "language_info": {
   "codemirror_mode": {
    "name": "ipython",
    "version": 3
   },
   "file_extension": ".py",
   "mimetype": "text/x-python",
   "name": "python",
   "nbconvert_exporter": "python",
   "pygments_lexer": "ipython3",
   "version": "3.10.13"
  }
 },
 "nbformat": 4,
 "nbformat_minor": 1
}
